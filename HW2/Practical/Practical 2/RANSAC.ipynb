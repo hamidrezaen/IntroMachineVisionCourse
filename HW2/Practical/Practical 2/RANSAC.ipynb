{
  "cells": [
    {
      "cell_type": "markdown",
      "metadata": {
        "id": "wuBm0tBfw-6S"
      },
      "source": [
        "# RANSAC"
      ]
    },
    {
      "cell_type": "markdown",
      "metadata": {
        "id": "voc19SLuUiej"
      },
      "source": [
        "## import library"
      ]
    },
    {
      "cell_type": "code",
      "execution_count": 1,
      "metadata": {
        "id": "ONQtKWBsUlRy"
      },
      "outputs": [],
      "source": [
        "import random\n",
        "import matplotlib.pyplot as plt"
      ]
    },
    {
      "cell_type": "markdown",
      "metadata": {
        "id": "f5VeFTBpUwM6"
      },
      "source": [
        "## Generate points"
      ]
    },
    {
      "cell_type": "code",
      "execution_count": 2,
      "metadata": {
        "id": "llrHZpSZMb9t"
      },
      "outputs": [],
      "source": [
        "\n",
        "# Set random seed for reproducibility\n",
        "random.seed(42)\n",
        "\n",
        "# Generate fixed set of points\n",
        "points = []\n",
        "# Inliers: roughly along the line y = 2x + 1 with some noise\n",
        "for _ in range(30):\n",
        "    x = random.uniform(0, 10)\n",
        "    y = 2 * x + 1 + random.uniform(-1, 1)  # Small noise\n",
        "    points.append((x, y))\n",
        "# Outliers: random points\n",
        "for _ in range(10):\n",
        "    x = random.uniform(0, 10)\n",
        "    y = random.uniform(0, 15)\n",
        "    points.append((x, y))\n",
        "\n",
        "# Convert to list of (x, y) tuples that won't change\n",
        "points = [(x, y) for x, y in points]\n",
        "\n",
        "\n"
      ]
    },
    {
      "cell_type": "markdown",
      "metadata": {
        "id": "VfjYEebTU6Iy"
      },
      "source": [
        "## distance to line"
      ]
    },
    {
      "cell_type": "code",
      "execution_count": 3,
      "metadata": {
        "id": "S_k4xiUjU-Vb"
      },
      "outputs": [],
      "source": [
        "\n",
        "def distance_to_line(x0, y0, x1, y1, x2, y2):\n",
        "    #TODO: Define a function to calculate the perpendicular distance from a point to a line\n",
        "    # Hint: The line is defined by two points (x1, y1) and (x2, y2), and you need to find the distance to point (x0, y0)\n",
        "    # Use the formula for the shortest distance from a point to a line; handle the case where the denominator might be zero\n",
        "    return num / denom if denom != 0 else float('inf')\n"
      ]
    },
    {
      "cell_type": "markdown",
      "metadata": {
        "id": "h4ZdvmhpU6TK"
      },
      "source": [
        "## fit line"
      ]
    },
    {
      "cell_type": "code",
      "execution_count": 4,
      "metadata": {
        "id": "4zxzqEhHU-wx"
      },
      "outputs": [],
      "source": [
        "\n",
        "def fit_line(x1, y1, x2, y2):\n",
        "    #TODO: Define a function to compute the slope and intercept of a line given two points\n",
        "    return m, b  # Replace with your implementation; return (slope, intercept)\n"
      ]
    },
    {
      "cell_type": "markdown",
      "metadata": {
        "id": "nsdZWkZCU6Z9"
      },
      "source": [
        "## ransac line fit\n",
        "\n",
        "Inputs: points (list of (x, y) tuples), n_iterations (number of tries), threshold (max distance for inliers)\n",
        "\n",
        "###Steps:\n",
        "1. Randomly pick two points to define a line\n",
        "2. Use fit_line to get the slope and intercept\n",
        "3. Find all points within the threshold distance to the line (inliers)\n",
        "4. Keep track of the line with the most inliers\n",
        "5. For each iteration, plot the current line, inliers (blue), and outliers (red) with a pause\n",
        "6. After all iterations, plot the best line with its inliers and outliers\n",
        "######Return: best_model (slope, intercept), best_inliers (list of inlier points)"
      ]
    },
    {
      "cell_type": "code",
      "execution_count": 5,
      "metadata": {
        "id": "KBuDme9qU_Fh"
      },
      "outputs": [],
      "source": [
        "#TODO: Implement the RANSAC algorithm to fit a line to the points\n",
        "\n",
        "def ransac_line_fit(points, n_iterations=20, threshold=0.5):\n",
        "    best_inliers = []\n",
        "    best_model = None\n",
        "    best_num_inliers = 0\n",
        "\n",
        "    for iteration in range(n_iterations):\n",
        "        # Step 1: Randomly select two points (hint: use random.sample)\n",
        "        #TODO: Implement point selection\n",
        "        pass\n",
        "\n",
        "        # Step 2: Define the line\n",
        "        #TODO: Call fit_line with your selected points\n",
        "        pass\n",
        "\n",
        "        # Step 3: Find inliers\n",
        "        inliers = []\n",
        "        outliers = []\n",
        "        #TODO: Loop through points, calculate distances, and classify as inliers or outliers\n",
        "        # Hint: Use distance_to_line; handle vertical lines (infinite slope) separately\n",
        "        pass\n",
        "\n",
        "        # Step 4: Update best model if current model has more inliers\n",
        "        #TODO: Compare number of inliers and update best_model, best_inliers, best_num_inliers\n",
        "        pass\n",
        "\n",
        "        # Step 5: Visualize current iteration (provided, but use your variables)\n",
        "        plt.clf()\n",
        "        if inliers:\n",
        "            in_x, in_y = zip(*inliers)\n",
        "            plt.scatter(in_x, in_y, color='blue', label='Inliers')\n",
        "        if outliers:\n",
        "            out_x, out_y = zip(*outliers)\n",
        "            plt.scatter(out_x, out_y, color='red', label='Outliers')\n",
        "        # Plot the current line\n",
        "        if m != float('inf'):\n",
        "            x_vals = [0, 10]\n",
        "            y_vals = [m * x + b for x in x_vals]\n",
        "            plt.plot(x_vals, y_vals, 'g--', label='Current Line')\n",
        "            eq_str = f\"y = {m:.2f}x + {b:.2f}\"\n",
        "        else:\n",
        "            plt.axvline(x=b, color='g', linestyle='--', label='Current Line')\n",
        "            eq_str = f\"x = {b:.2f}\"\n",
        "        plt.title(f\"Iteration {iteration + 1}/{n_iterations}, Inliers: {len(inliers)}, {eq_str}\")\n",
        "        plt.legend()\n",
        "        plt.xlim(0, 10)\n",
        "        plt.ylim(0, 15)\n",
        "        plt.pause(0.5)\n",
        "\n",
        "    # Final plot with best model (provided, but use your best_model)\n",
        "    plt.clf()\n",
        "    in_x, in_y = zip(*best_inliers) if best_inliers else ([], [])\n",
        "    out_x, out_y = zip(*[p for p in points if p not in best_inliers])\n",
        "    plt.scatter(in_x, in_y, color='blue', label='Inliers')\n",
        "    plt.scatter(out_x, out_y, color='red', label='Outliers')\n",
        "    if best_model[0] != float('inf'):\n",
        "        x_vals = [0, 10]\n",
        "        y_vals = [best_model[0] * x + best_model[1] for x in x_vals]\n",
        "        plt.plot(x_vals, y_vals, 'g--', label='Best Fit Line')\n",
        "        final_eq = f\"y = {best_model[0]:.2f}x + {best_model[1]:.2f}\"\n",
        "    else:\n",
        "        plt.axvline(x=best_model[1], color='g', linestyle='--', label='Best Fit Line')\n",
        "        final_eq = f\"x = {best_model[1]:.2f}\"\n",
        "    plt.title(f\"Final Result, Best Inliers: {best_num_inliers}, {final_eq}\")\n",
        "    plt.legend()\n",
        "    plt.xlim(0, 10)\n",
        "    plt.ylim(0, 15)\n",
        "    plt.show()\n",
        "\n",
        "    return best_model, best_inliers"
      ]
    },
    {
      "cell_type": "markdown",
      "metadata": {
        "id": "0r3iNIolVHNC"
      },
      "source": [
        "## Run RANSAC"
      ]
    },
    {
      "cell_type": "code",
      "execution_count": null,
      "metadata": {
        "id": "2hJTzDqGVHWZ"
      },
      "outputs": [],
      "source": [
        "best_model, best_inliers = ransac_line_fit(points)\n",
        "print(f\"Best line: slope = {best_model[0]}, intercept = {best_model[1]}\")"
      ]
    },
    {
      "cell_type": "markdown",
      "metadata": {
        "id": "iyAOS00Ew0ga"
      },
      "source": [
        "# RANSAC application"
      ]
    },
    {
      "cell_type": "markdown",
      "metadata": {
        "id": "sdI4jkLmxQgh"
      },
      "source": [
        "## import library"
      ]
    },
    {
      "cell_type": "code",
      "execution_count": null,
      "metadata": {
        "id": "f7ODDtCtxRDR"
      },
      "outputs": [],
      "source": [
        "import cv2\n",
        "import numpy as np\n",
        "import matplotlib.pyplot as plt"
      ]
    },
    {
      "cell_type": "markdown",
      "metadata": {
        "id": "UFRHq5FwxUtq"
      },
      "source": [
        "## load images"
      ]
    },
    {
      "cell_type": "code",
      "execution_count": null,
      "metadata": {
        "id": "--wdV1SjxZDJ"
      },
      "outputs": [],
      "source": [
        "\n",
        "object_img = cv2.imread('Meerkat.jpg', cv2.IMREAD_GRAYSCALE)  # object\n",
        "scene_img = cv2.imread('animals.jpg', cv2.IMREAD_GRAYSCALE)   # Scene image with objects\n",
        "\n",
        "if object_img is None or scene_img is None:\n",
        "    raise Exception(\"Images not found. Please provide 'Meerkat.jpg' and 'animals.jpg'.\")"
      ]
    },
    {
      "cell_type": "markdown",
      "metadata": {
        "id": "7nameK1MxbQi"
      },
      "source": [
        "## Homography & RANSAC application"
      ]
    },
    {
      "cell_type": "code",
      "execution_count": null,
      "metadata": {
        "id": "JYJRXnfxxcP5"
      },
      "outputs": [],
      "source": [
        "# Feature Detection and Description (using SIFT)\n",
        "sift = cv2.SIFT_create()\n",
        "kp_obj, des_obj = sift.detectAndCompute(object_img, None)\n",
        "kp_scene, des_scene = sift.detectAndCompute(scene_img, None)\n",
        "\n",
        "\n",
        "# Feature Matching (using KNN with ratio test)\n",
        "bf = cv2.BFMatcher()\n",
        "matches = bf.knnMatch(des_obj, des_scene, k=2)\n",
        "\n",
        "\n",
        "# Apply ratio test to filter good matches\n",
        "good_matches = []\n",
        "for m, n in matches:\n",
        "    if m.distance < 0.75 * n.distance:  # Lowe's ratio test\n",
        "        good_matches.append(m)\n",
        "\n",
        "\n",
        "# Draw matches for visualization\n",
        "img_matches = cv2.drawMatches(object_img, kp_obj, scene_img, kp_scene, good_matches, None,\n",
        "                             flags=cv2.DrawMatchesFlags_NOT_DRAW_SINGLE_POINTS)\n",
        "\n",
        "# Homography Estimation with RANSAC\n",
        "if len(good_matches) >= 4:  # Minimum 4 points needed for homography\n",
        "    # Extract source (object) and destination (scene) points from good matches\n",
        "    # Hint: Use kp_obj[m.queryIdx].pt and kp_scene[m.trainIdx].pt, reshape to (-1, 1, 2)\n",
        "    src_pts = #TODO\n",
        "    dst_pts = #TODO\n",
        "\n",
        "    H, mask = # TODO: Compute the homography matrix using RANSAC\n",
        "              # Hint: Use findHomography with RANSAC and a reasonable threshold (e.g., 5.0)\n",
        "\n",
        "    matches_mask = mask.ravel().tolist()\n",
        "else:\n",
        "    raise Exception(\"Not enough good matches found (need at least 4).\")\n",
        "\n",
        "\n",
        "# Perspective Transform to Locate Object\n",
        "h, w = object_img.shape\n",
        "obj_corners = np.float32([[0, 0], [0, h-1], [w-1, h-1], [w-1, 0]]).reshape(-1, 1, 2)\n",
        "scene_corners = cv2.perspectiveTransform(obj_corners, H)\n",
        "\n",
        "# Draw object boundary on scene image\n",
        "scene_color = cv2.cvtColor(scene_img, cv2.COLOR_GRAY2BGR)\n",
        "cv2.polylines(scene_color, [np.int32(scene_corners)], True, (0, 255, 0), 2)\n",
        "\n",
        "# Step 5: Histogram Verification (RGB and HSV)\n",
        "# Warp the scene region back to object size for comparison\n",
        "quad = np.zeros_like(object_img, dtype=np.uint8)\n",
        "H_inv = np.linalg.inv(H)  # Inverse homography to warp scene to object\n",
        "scene_color_full = cv2.imread('animals.jpg')\n",
        "warped_scene = cv2.warpPerspective(scene_color_full, H_inv, (w, h))\n",
        "\n",
        "\n",
        "# Convert images to HSV and compute histograms for verification\n",
        "# Hint: Convert to HSV with cv2.cvtColor, compute histograms on Hue channel with cv2.calcHist\n",
        "obj_hsv = #TODO\n",
        "warped_hsv = #TODO\n",
        "\n",
        "hist_obj = #TODO\n",
        "hist_warped = #TODO\n",
        "\n",
        "cv2.normalize(hist_obj, hist_obj)\n",
        "cv2.normalize(hist_warped, hist_warped)\n",
        "\n",
        "# Compare histograms (Bhattacharyya distance)\n",
        "hist_diff = cv2.compareHist(hist_obj, hist_warped, cv2.HISTCMP_BHATTACHARYYA)\n",
        "print(f\"Histogram Bhattacharyya Distance: {hist_diff:.4f}\")\n",
        "verification_threshold = 0.5  # Adjust based on testing\n",
        "if hist_diff < verification_threshold:\n",
        "    print(\"Object verified by histogram comparison!\")\n",
        "else:\n",
        "    print(\"Object not verified by histogram comparison.\")\n"
      ]
    },
    {
      "cell_type": "markdown",
      "metadata": {
        "id": "IcOq7fmPxgnJ"
      },
      "source": [
        "## show result"
      ]
    },
    {
      "cell_type": "code",
      "execution_count": null,
      "metadata": {
        "id": "kn7SVyPlxhhL"
      },
      "outputs": [],
      "source": [
        "plt.figure(figsize=(15, 5))\n",
        "plt.subplot(131), plt.imshow(img_matches), plt.title('Feature Matches')\n",
        "plt.subplot(132), plt.imshow(scene_color), plt.title('Detected Object')\n",
        "plt.subplot(133), plt.imshow(warped_scene), plt.title('Warped Meerkat Region')\n",
        "plt.tight_layout()\n",
        "plt.show()"
      ]
    }
  ],
  "metadata": {
    "colab": {
      "provenance": [],
      "toc_visible": true
    },
    "kernelspec": {
      "display_name": "Python 3",
      "name": "python3"
    },
    "language_info": {
      "name": "python"
    }
  },
  "nbformat": 4,
  "nbformat_minor": 0
}
